{
  "nbformat": 4,
  "nbformat_minor": 0,
  "metadata": {
    "colab": {
      "name": "UVaT_Demo.ipynb",
      "provenance": [],
      "toc_visible": true
    },
    "kernelspec": {
      "name": "python3",
      "display_name": "Python 3"
    },
    "language_info": {
      "name": "python"
    },
    "accelerator": "GPU",
    "gpuClass": "standard"
  },
  "cells": [
    {
      "cell_type": "markdown",
      "source": [
        "# **UVaT Demo**\n",
        "## Choose the running devise\n",
        "Edit menu-> Notebook settings->Hardware accelerator->GPU->Save\n",
        "## To run this demo: \n",
        "*   Make sure the GPU is selected as the running device.\n",
        "\n",
        "## **The complete code will be fully released after the paper is accepted.**\n",
        "\n"
      ],
      "metadata": {
        "id": "9h_E1fWhw5Ma"
      }
    },
    {
      "cell_type": "code",
      "execution_count": null,
      "metadata": {
        "colab": {
          "base_uri": "https://localhost:8080/",
          "height": 693
        },
        "id": "An0fFRxrUlSm",
        "outputId": "bf914c42-328d-4333-d0a0-2b4148bae132"
      },
      "outputs": [
        {
          "output_type": "stream",
          "name": "stdout",
          "text": [
            "Looking in indexes: https://pypi.org/simple, https://us-python.pkg.dev/colab-wheels/public/simple/\n",
            "Collecting scikit-learn==0.19.2\n",
            "  Downloading scikit_learn-0.19.2-cp37-cp37m-manylinux1_x86_64.whl (4.9 MB)\n",
            "\u001b[K     |████████████████████████████████| 4.9 MB 31.4 MB/s \n",
            "\u001b[?25hInstalling collected packages: scikit-learn\n",
            "  Attempting uninstall: scikit-learn\n",
            "    Found existing installation: scikit-learn 1.0.2\n",
            "    Uninstalling scikit-learn-1.0.2:\n",
            "      Successfully uninstalled scikit-learn-1.0.2\n",
            "\u001b[31mERROR: pip's dependency resolver does not currently take into account all the packages that are installed. This behaviour is the source of the following dependency conflicts.\n",
            "yellowbrick 1.4 requires scikit-learn>=1.0.0, but you have scikit-learn 0.19.2 which is incompatible.\n",
            "imbalanced-learn 0.8.1 requires scikit-learn>=0.24, but you have scikit-learn 0.19.2 which is incompatible.\u001b[0m\n",
            "Successfully installed scikit-learn-0.19.2\n",
            "Looking in indexes: https://pypi.org/simple, https://us-python.pkg.dev/colab-wheels/public/simple/\n",
            "Collecting numpy==1.19.2\n",
            "  Downloading numpy-1.19.2-cp37-cp37m-manylinux2010_x86_64.whl (14.5 MB)\n",
            "\u001b[K     |████████████████████████████████| 14.5 MB 21.7 MB/s \n",
            "\u001b[?25hInstalling collected packages: numpy\n",
            "  Attempting uninstall: numpy\n",
            "    Found existing installation: numpy 1.21.6\n",
            "    Uninstalling numpy-1.21.6:\n",
            "      Successfully uninstalled numpy-1.21.6\n",
            "\u001b[31mERROR: pip's dependency resolver does not currently take into account all the packages that are installed. This behaviour is the source of the following dependency conflicts.\n",
            "yellowbrick 1.4 requires scikit-learn>=1.0.0, but you have scikit-learn 0.19.2 which is incompatible.\n",
            "xarray-einstats 0.2.2 requires numpy>=1.21, but you have numpy 1.19.2 which is incompatible.\n",
            "tensorflow 2.8.2+zzzcolab20220719082949 requires numpy>=1.20, but you have numpy 1.19.2 which is incompatible.\n",
            "imbalanced-learn 0.8.1 requires scikit-learn>=0.24, but you have scikit-learn 0.19.2 which is incompatible.\n",
            "cmdstanpy 1.0.4 requires numpy>=1.21, but you have numpy 1.19.2 which is incompatible.\u001b[0m\n",
            "Successfully installed numpy-1.19.2\n"
          ]
        },
        {
          "output_type": "display_data",
          "data": {
            "application/vnd.colab-display-data+json": {
              "pip_warning": {
                "packages": [
                  "numpy"
                ]
              }
            }
          },
          "metadata": {}
        },
        {
          "output_type": "stream",
          "name": "stdout",
          "text": [
            "Looking in indexes: https://pypi.org/simple, https://us-python.pkg.dev/colab-wheels/public/simple/\n",
            "Collecting toml\n",
            "  Downloading toml-0.10.2-py2.py3-none-any.whl (16 kB)\n",
            "Installing collected packages: toml\n",
            "Successfully installed toml-0.10.2\n"
          ]
        }
      ],
      "source": [
        "!pip install scikit-learn==0.19.2\n",
        "!pip install numpy==1.19.2\n",
        "!pip install toml"
      ]
    },
    {
      "cell_type": "code",
      "source": [
        "!mkdir /content/Demo\n",
        "%cd Demo\n",
        "!gdown https://drive.google.com/uc?id=1Q63Yx70QUYsvVbz06ivwm_JEui3pc6vW\n",
        "!unzip UVaT_Demo.zip\n",
        "%cd UVaT_Demo"
      ],
      "metadata": {
        "colab": {
          "base_uri": "https://localhost:8080/"
        },
        "id": "nDTdz94jafGn",
        "outputId": "304e9a80-8e56-4817-864d-44dcd1ba8b9f"
      },
      "execution_count": null,
      "outputs": [
        {
          "output_type": "stream",
          "name": "stdout",
          "text": [
            "mkdir: cannot create directory ‘/content/Demo’: File exists\n",
            "[Errno 2] No such file or directory: 'Demo'\n",
            "/content/Demo\n",
            "Downloading...\n",
            "From: https://drive.google.com/uc?id=1Q63Yx70QUYsvVbz06ivwm_JEui3pc6vW\n",
            "To: /content/Demo/UVaT_Demo.zip\n",
            "100% 4.68G/4.68G [00:26<00:00, 173MB/s]\n",
            "Archive:  UVaT_Demo.zip\n",
            "  inflating: UVaT_Demo/demo_test_pipeline.py  \n",
            "   creating: UVaT_Demo/.ipynb_checkpoints/\n",
            "  inflating: UVaT_Demo/.ipynb_checkpoints/demo_test_pipeline-checkpoint.ipynb  \n",
            "   creating: UVaT_Demo/config/\n",
            "  inflating: UVaT_Demo/config/pipeline_config.toml  \n",
            "   creating: UVaT_Demo/data/\n",
            "   creating: UVaT_Demo/data/mat_files/\n",
            "  inflating: UVaT_Demo/data/mat_files/ORL_mtv.mat  \n",
            "  inflating: UVaT_Demo/data/mat_files/PIE_face_10.mat  \n",
            " extracting: UVaT_Demo/data/mat_files/animal.mat  \n",
            " extracting: UVaT_Demo/data/mat_files/cub_googlenet_doc2vec_c10.mat  \n",
            " extracting: UVaT_Demo/data/mat_files/handwritten0.mat  \n",
            "  inflating: UVaT_Demo/data/mat_files/yaleB_mtv.mat  \n",
            "   creating: UVaT_Demo/data/splits/\n",
            "   creating: UVaT_Demo/data/splits/CUB/\n",
            "  inflating: UVaT_Demo/data/splits/CUB/test.txt  \n",
            "  inflating: UVaT_Demo/data/splits/CUB/train.txt  \n",
            "  inflating: UVaT_Demo/data/splits/CUB/val.txt  \n",
            "   creating: UVaT_Demo/data/splits/ORL/\n",
            "  inflating: UVaT_Demo/data/splits/ORL/test.txt  \n",
            "  inflating: UVaT_Demo/data/splits/ORL/train.txt  \n",
            "  inflating: UVaT_Demo/data/splits/ORL/val.txt  \n",
            "   creating: UVaT_Demo/data/splits/PIE/\n",
            "  inflating: UVaT_Demo/data/splits/PIE/test.txt  \n",
            "  inflating: UVaT_Demo/data/splits/PIE/train.txt  \n",
            "  inflating: UVaT_Demo/data/splits/PIE/val.txt  \n",
            "   creating: UVaT_Demo/data/splits/YaleB/\n",
            "  inflating: UVaT_Demo/data/splits/YaleB/test.txt  \n",
            "  inflating: UVaT_Demo/data/splits/YaleB/train.txt  \n",
            "  inflating: UVaT_Demo/data/splits/YaleB/val.txt  \n",
            "   creating: UVaT_Demo/data/splits/animal/\n",
            "  inflating: UVaT_Demo/data/splits/animal/test.txt  \n",
            "  inflating: UVaT_Demo/data/splits/animal/train.txt  \n",
            "  inflating: UVaT_Demo/data/splits/animal/val.txt  \n",
            "   creating: UVaT_Demo/data/splits/handwritten/\n",
            "  inflating: UVaT_Demo/data/splits/handwritten/test.txt  \n",
            "  inflating: UVaT_Demo/data/splits/handwritten/train.txt  \n",
            "  inflating: UVaT_Demo/data/splits/handwritten/val.txt  \n",
            "  inflating: UVaT_Demo/demo_test_pipeline.ipynb  \n",
            "   creating: UVaT_Demo/layers/\n",
            "  inflating: UVaT_Demo/layers/DS_fusion.py  \n",
            "   creating: UVaT_Demo/layers/__pycache__/\n",
            "  inflating: UVaT_Demo/layers/__pycache__/DS_fusion.cpython-36.pyc  \n",
            " extracting: UVaT_Demo/requirements.txt.txt  \n",
            "   creating: UVaT_Demo/src/\n",
            "   creating: UVaT_Demo/src/layers/\n",
            "   creating: UVaT_Demo/src/layers/__pycache__/\n",
            "  inflating: UVaT_Demo/src/layers/__pycache__/common_layer.cpython-36.pyc  \n",
            "  inflating: UVaT_Demo/src/layers/__pycache__/diagnose_module.cpython-36.pyc  \n",
            "  inflating: UVaT_Demo/src/layers/__pycache__/modalities.cpython-36.pyc  \n",
            "  inflating: UVaT_Demo/src/layers/__pycache__/view_aware_transformer.cpython-36.pyc  \n",
            "  inflating: UVaT_Demo/src/layers/common_layer.py  \n",
            "  inflating: UVaT_Demo/src/layers/diagnose_module.py  \n",
            "  inflating: UVaT_Demo/src/layers/modalities.py  \n",
            "  inflating: UVaT_Demo/src/layers/view_aware_transformer.py  \n",
            "   creating: UVaT_Demo/src/network/\n",
            "  inflating: UVaT_Demo/src/network/VaTUncertainty.py  \n",
            "  inflating: UVaT_Demo/src/network/VaTUncertaintyEnsemble.py  \n",
            "   creating: UVaT_Demo/src/network/__pycache__/\n",
            "  inflating: UVaT_Demo/src/network/__pycache__/VaTUncertainty.cpython-36.pyc  \n",
            "  inflating: UVaT_Demo/src/network/__pycache__/VaTUncertaintyEnsemble.cpython-36.pyc  \n",
            "   creating: UVaT_Demo/utils/\n",
            "   creating: UVaT_Demo/utils/__pycache__/\n",
            "  inflating: UVaT_Demo/utils/__pycache__/base_function.cpython-36.pyc  \n",
            "  inflating: UVaT_Demo/utils/__pycache__/config_options.cpython-36.pyc  \n",
            "  inflating: UVaT_Demo/utils/__pycache__/get_config.cpython-36.pyc  \n",
            "  inflating: UVaT_Demo/utils/__pycache__/setup_random_seed.cpython-36.pyc  \n",
            "  inflating: UVaT_Demo/utils/__pycache__/standard_dataset.cpython-36.pyc  \n",
            "  inflating: UVaT_Demo/utils/base_function.py  \n",
            "  inflating: UVaT_Demo/utils/config_options.py  \n",
            "  inflating: UVaT_Demo/utils/get_config.py  \n",
            "  inflating: UVaT_Demo/utils/setup_random_seed.py  \n",
            "  inflating: UVaT_Demo/utils/standard_dataset.py  \n",
            "   creating: UVaT_Demo/weights/\n",
            "   creating: UVaT_Demo/weights/CUB/\n",
            "  inflating: UVaT_Demo/weights/CUB/seed1231_cv1_missing0.0.pkl  \n",
            "  inflating: UVaT_Demo/weights/CUB/seed1231_cv1_missing0.0_include_net.pkl  \n",
            "  inflating: UVaT_Demo/weights/CUB/seed1231_cv1_missing0.1.pkl  \n",
            "  inflating: UVaT_Demo/weights/CUB/seed1231_cv1_missing0.1_include_net.pkl  \n",
            "  inflating: UVaT_Demo/weights/CUB/seed1231_cv1_missing0.2.pkl  \n",
            "  inflating: UVaT_Demo/weights/CUB/seed1231_cv1_missing0.2_include_net.pkl  \n",
            "  inflating: UVaT_Demo/weights/CUB/seed1231_cv1_missing0.3.pkl  \n",
            "  inflating: UVaT_Demo/weights/CUB/seed1231_cv1_missing0.3_include_net.pkl  \n",
            "  inflating: UVaT_Demo/weights/CUB/seed1231_cv1_missing0.4.pkl  \n",
            "  inflating: UVaT_Demo/weights/CUB/seed1231_cv1_missing0.4_include_net.pkl  \n",
            "  inflating: UVaT_Demo/weights/CUB/seed1231_cv1_missing0.5.pkl  \n",
            "  inflating: UVaT_Demo/weights/CUB/seed1231_cv1_missing0.5_include_net.pkl  \n",
            "   creating: UVaT_Demo/weights/ORL/\n",
            "  inflating: UVaT_Demo/weights/ORL/seed1231_cv1_missing0.0.pkl  \n",
            "  inflating: UVaT_Demo/weights/ORL/seed1231_cv1_missing0.0_include_net.pkl  \n",
            "  inflating: UVaT_Demo/weights/ORL/seed1231_cv1_missing0.1.pkl  \n",
            "  inflating: UVaT_Demo/weights/ORL/seed1231_cv1_missing0.1_include_net.pkl  \n",
            "  inflating: UVaT_Demo/weights/ORL/seed1231_cv1_missing0.2.pkl  \n",
            "  inflating: UVaT_Demo/weights/ORL/seed1231_cv1_missing0.2_include_net.pkl  \n",
            "  inflating: UVaT_Demo/weights/ORL/seed1231_cv1_missing0.3.pkl  \n",
            "  inflating: UVaT_Demo/weights/ORL/seed1231_cv1_missing0.3_include_net.pkl  \n",
            "  inflating: UVaT_Demo/weights/ORL/seed1231_cv1_missing0.4.pkl  \n",
            "  inflating: UVaT_Demo/weights/ORL/seed1231_cv1_missing0.4_include_net.pkl  \n",
            "  inflating: UVaT_Demo/weights/ORL/seed1231_cv1_missing0.5.pkl  \n",
            "  inflating: UVaT_Demo/weights/ORL/seed1231_cv1_missing0.5_include_net.pkl  \n",
            "   creating: UVaT_Demo/weights/PIE/\n",
            "  inflating: UVaT_Demo/weights/PIE/seed1231_cv1_missing0.0.pkl  \n",
            "  inflating: UVaT_Demo/weights/PIE/seed1231_cv1_missing0.0_include_net.pkl  \n",
            "  inflating: UVaT_Demo/weights/PIE/seed1231_cv1_missing0.1.pkl  \n",
            "  inflating: UVaT_Demo/weights/PIE/seed1231_cv1_missing0.1_include_net.pkl  \n",
            "  inflating: UVaT_Demo/weights/PIE/seed1231_cv1_missing0.2.pkl  \n",
            "  inflating: UVaT_Demo/weights/PIE/seed1231_cv1_missing0.2_include_net.pkl  \n",
            "  inflating: UVaT_Demo/weights/PIE/seed1231_cv1_missing0.3.pkl  \n",
            "  inflating: UVaT_Demo/weights/PIE/seed1231_cv1_missing0.3_include_net.pkl  \n",
            "  inflating: UVaT_Demo/weights/PIE/seed1231_cv1_missing0.4.pkl  \n",
            "  inflating: UVaT_Demo/weights/PIE/seed1231_cv1_missing0.4_include_net.pkl  \n",
            "  inflating: UVaT_Demo/weights/PIE/seed1231_cv1_missing0.5.pkl  \n",
            "  inflating: UVaT_Demo/weights/PIE/seed1231_cv1_missing0.5_include_net.pkl  \n",
            "   creating: UVaT_Demo/weights/YaleB/\n",
            "  inflating: UVaT_Demo/weights/YaleB/seed1231_cv1_missing0.0.pkl  \n",
            "  inflating: UVaT_Demo/weights/YaleB/seed1231_cv1_missing0.0_include_net.pkl  \n",
            "  inflating: UVaT_Demo/weights/YaleB/seed1231_cv1_missing0.1.pkl  \n",
            "  inflating: UVaT_Demo/weights/YaleB/seed1231_cv1_missing0.1_include_net.pkl  \n",
            "  inflating: UVaT_Demo/weights/YaleB/seed1231_cv1_missing0.2.pkl  \n",
            "  inflating: UVaT_Demo/weights/YaleB/seed1231_cv1_missing0.2_include_net.pkl  \n",
            "  inflating: UVaT_Demo/weights/YaleB/seed1231_cv1_missing0.3.pkl  \n",
            "  inflating: UVaT_Demo/weights/YaleB/seed1231_cv1_missing0.3_include_net.pkl  \n",
            "  inflating: UVaT_Demo/weights/YaleB/seed1231_cv1_missing0.4.pkl  \n",
            "  inflating: UVaT_Demo/weights/YaleB/seed1231_cv1_missing0.4_include_net.pkl  \n",
            "  inflating: UVaT_Demo/weights/YaleB/seed1231_cv1_missing0.5.pkl  \n",
            "  inflating: UVaT_Demo/weights/YaleB/seed1231_cv1_missing0.5_include_net.pkl  \n",
            "   creating: UVaT_Demo/weights/animal/\n",
            "  inflating: UVaT_Demo/weights/animal/seed1231_cv1_missing0.0.pkl  \n",
            "  inflating: UVaT_Demo/weights/animal/seed1231_cv1_missing0.0_include_net.pkl  \n",
            "  inflating: UVaT_Demo/weights/animal/seed1231_cv1_missing0.1.pkl  \n",
            "  inflating: UVaT_Demo/weights/animal/seed1231_cv1_missing0.1_include_net.pkl  \n",
            "  inflating: UVaT_Demo/weights/animal/seed1231_cv1_missing0.2.pkl  \n",
            "  inflating: UVaT_Demo/weights/animal/seed1231_cv1_missing0.2_include_net.pkl  \n",
            "  inflating: UVaT_Demo/weights/animal/seed1231_cv1_missing0.3.pkl  \n",
            "  inflating: UVaT_Demo/weights/animal/seed1231_cv1_missing0.3_include_net.pkl  \n",
            "  inflating: UVaT_Demo/weights/animal/seed1231_cv1_missing0.4.pkl  \n",
            "  inflating: UVaT_Demo/weights/animal/seed1231_cv1_missing0.4_include_net.pkl  \n",
            "  inflating: UVaT_Demo/weights/animal/seed1231_cv1_missing0.5.pkl  \n",
            "  inflating: UVaT_Demo/weights/animal/seed1231_cv1_missing0.5_include_net.pkl  \n",
            "   creating: UVaT_Demo/weights/handwritten/\n",
            "  inflating: UVaT_Demo/weights/handwritten/seed1231_cv1_missing0.0.pkl  \n",
            "  inflating: UVaT_Demo/weights/handwritten/seed1231_cv1_missing0.0_include_net.pkl  \n",
            "  inflating: UVaT_Demo/weights/handwritten/seed1231_cv1_missing0.1.pkl  \n",
            "  inflating: UVaT_Demo/weights/handwritten/seed1231_cv1_missing0.1_include_net.pkl  \n",
            "  inflating: UVaT_Demo/weights/handwritten/seed1231_cv1_missing0.2.pkl  \n",
            "  inflating: UVaT_Demo/weights/handwritten/seed1231_cv1_missing0.2_include_net.pkl  \n",
            "  inflating: UVaT_Demo/weights/handwritten/seed1231_cv1_missing0.3.pkl  \n",
            "  inflating: UVaT_Demo/weights/handwritten/seed1231_cv1_missing0.3_include_net.pkl  \n",
            "  inflating: UVaT_Demo/weights/handwritten/seed1231_cv1_missing0.4.pkl  \n",
            "  inflating: UVaT_Demo/weights/handwritten/seed1231_cv1_missing0.4_include_net.pkl  \n",
            "  inflating: UVaT_Demo/weights/handwritten/seed1231_cv1_missing0.5.pkl  \n",
            "  inflating: UVaT_Demo/weights/handwritten/seed1231_cv1_missing0.5_include_net.pkl  \n",
            "/content/Demo/UVaT_Demo\n"
          ]
        }
      ]
    },
    {
      "cell_type": "code",
      "source": [
        "!python demo_test_pipeline.py"
      ],
      "metadata": {
        "id": "fQG4L1q1dzj7",
        "colab": {
          "base_uri": "https://localhost:8080/"
        },
        "outputId": "c8af4949-741c-4298-f898-3589b0a22c83"
      },
      "execution_count": null,
      "outputs": [
        {
          "output_type": "stream",
          "name": "stdout",
          "text": [
            "##########  Consistent view-missing pattern  ##########\n",
            "/usr/local/lib/python3.7/dist-packages/torch/serialization.py:786: SourceChangeWarning: source code of class 'src.network.VaTUncertainty.VaTUncertainty' has changed. you can retrieve the original source code by accessing the object's source attribute or set `torch.nn.Module.dump_patches = True` and use the patch tool to revert the changes.\n",
            "  warnings.warn(msg, SourceChangeWarning)\n",
            "/usr/local/lib/python3.7/dist-packages/torch/serialization.py:786: SourceChangeWarning: source code of class 'torch.nn.modules.container.ModuleList' has changed. you can retrieve the original source code by accessing the object's source attribute or set `torch.nn.Module.dump_patches = True` and use the patch tool to revert the changes.\n",
            "  warnings.warn(msg, SourceChangeWarning)\n",
            "/usr/local/lib/python3.7/dist-packages/torch/serialization.py:786: SourceChangeWarning: source code of class 'torch.nn.modules.linear.Linear' has changed. you can retrieve the original source code by accessing the object's source attribute or set `torch.nn.Module.dump_patches = True` and use the patch tool to revert the changes.\n",
            "  warnings.warn(msg, SourceChangeWarning)\n",
            "/usr/local/lib/python3.7/dist-packages/torch/serialization.py:786: SourceChangeWarning: source code of class 'torch.nn.modules.normalization.LayerNorm' has changed. you can retrieve the original source code by accessing the object's source attribute or set `torch.nn.Module.dump_patches = True` and use the patch tool to revert the changes.\n",
            "  warnings.warn(msg, SourceChangeWarning)\n",
            "/usr/local/lib/python3.7/dist-packages/torch/serialization.py:786: SourceChangeWarning: source code of class 'torch.nn.modules.activation.ReLU' has changed. you can retrieve the original source code by accessing the object's source attribute or set `torch.nn.Module.dump_patches = True` and use the patch tool to revert the changes.\n",
            "  warnings.warn(msg, SourceChangeWarning)\n",
            "/usr/local/lib/python3.7/dist-packages/torch/serialization.py:786: SourceChangeWarning: source code of class 'torch.nn.modules.dropout.Dropout' has changed. you can retrieve the original source code by accessing the object's source attribute or set `torch.nn.Module.dump_patches = True` and use the patch tool to revert the changes.\n",
            "  warnings.warn(msg, SourceChangeWarning)\n",
            "/usr/local/lib/python3.7/dist-packages/torch/serialization.py:786: SourceChangeWarning: source code of class 'torch.nn.modules.sparse.Embedding' has changed. you can retrieve the original source code by accessing the object's source attribute or set `torch.nn.Module.dump_patches = True` and use the patch tool to revert the changes.\n",
            "  warnings.warn(msg, SourceChangeWarning)\n",
            "/usr/local/lib/python3.7/dist-packages/torch/serialization.py:786: SourceChangeWarning: source code of class 'torch.nn.modules.container.Sequential' has changed. you can retrieve the original source code by accessing the object's source attribute or set `torch.nn.Module.dump_patches = True` and use the patch tool to revert the changes.\n",
            "  warnings.warn(msg, SourceChangeWarning)\n",
            "dataset_name:ORL|accuracy:{0.1: 0.987500011920929, 0.2: 0.987500011920929, 0.3: 1.0, 0.4: 0.987500011920929, 0.5: 0.987500011920929}\n",
            "/content/Demo/UVaT_Demo/utils/standard_dataset.py:309: RuntimeWarning: Mean of empty slice\n",
            "  x = (x - np.expand_dims(np.nanmean(x,axis=axis), axis=axis)) / np.expand_dims(\n",
            "/usr/local/lib/python3.7/dist-packages/numpy/lib/nanfunctions.py:1665: RuntimeWarning: Degrees of freedom <= 0 for slice.\n",
            "  keepdims=keepdims)\n",
            "dataset_name:YaleB|accuracy:{0.1: 1.0, 0.2: 0.9923076629638672, 0.3: 1.0, 0.4: 0.9923076629638672, 0.5: 0.9923076629638672}\n",
            "dataset_name:PIE|accuracy:{0.1: 0.8602941036224365, 0.2: 0.8602941036224365, 0.3: 0.8161764740943909, 0.4: 0.7647058963775635, 0.5: 0.7426470518112183}\n",
            "dataset_name:CUB|accuracy:{0.1: 0.925000011920929, 0.2: 0.8999999761581421, 0.3: 0.8583333492279053, 0.4: 0.8500000238418579, 0.5: 0.824999988079071}\n",
            "dataset_name:handwritten|accuracy:{0.1: 0.9775000214576721, 0.2: 0.9750000238418579, 0.3: 0.9750000238418579, 0.4: 0.9725000262260437, 0.5: 0.9649999737739563}\n",
            "/content/Demo/UVaT_Demo/utils/standard_dataset.py:287: RuntimeWarning: invalid value encountered in true_divide\n",
            "  (view_data - min_view) / max_view)\n",
            "dataset_name:animal|accuracy:{0.1: 0.8545011878013611, 0.2: 0.8165450096130371, 0.3: 0.7863746881484985, 0.4: 0.7683698534965515, 0.5: 0.7445255517959595}\n",
            "##########  View-missing pattern change  ##########\n",
            "dataset_name:ORL|accuracy:{0.0: 1.0, 0.1: 0.987500011920929, 0.2: 0.987500011920929, 0.3: 0.9624999761581421, 0.4: 0.9375, 0.5: 0.925000011920929}\n",
            "dataset_name:YaleB|accuracy:{0.0: 1.0, 0.1: 1.0, 0.2: 0.9923076629638672, 0.3: 0.9923076629638672, 0.4: 0.9846153855323792, 0.5: 0.9923076629638672}\n",
            "dataset_name:PIE|accuracy:{0.0: 0.8970588445663452, 0.1: 0.8529411554336548, 0.2: 0.8382353186607361, 0.3: 0.7573529481887817, 0.4: 0.6838235259056091, 0.5: 0.6397058963775635}\n",
            "dataset_name:CUB|accuracy:{0.0: 0.9416666626930237, 0.1: 0.925000011920929, 0.2: 0.8999999761581421, 0.3: 0.8583333492279053, 0.4: 0.800000011920929, 0.5: 0.8083333373069763}\n",
            "dataset_name:handwritten|accuracy:{0.0: 0.9775000214576721, 0.1: 0.9800000190734863, 0.2: 0.9750000238418579, 0.3: 0.9700000286102295, 0.4: 0.9674999713897705, 0.5: 0.9599999785423279}\n",
            "dataset_name:animal|accuracy:{0.0: 0.8729926943778992, 0.1: 0.8506082892417908, 0.2: 0.8048661947250366, 0.3: 0.7703163027763367, 0.4: 0.7469586133956909, 0.5: 0.7085158228874207}\n",
            "##########  different noise level  ##########\n",
            "dataset_name:ORL|accuracy:{0: 1.0, 1: 0.925000011920929, 10.0: 0.8500000238418579, 100.0: 0.8500000238418579, 1000.0: 0.8500000238418579, 10000.0: 0.8500000238418579, 100000.0: 0.8500000238418579, 1000000.0: 0.8500000238418579, 10000000.0: 0.8500000238418579, 100000000.0: 0.8500000238418579, 1000000000.0: 0.8500000238418579}\n",
            "dataset_name:YaleB|accuracy:{0: 1.0, 1: 0.892307698726654, 10.0: 0.8307692408561707, 100.0: 0.8307692408561707, 1000.0: 0.8307692408561707, 10000.0: 0.8307692408561707, 100000.0: 0.8307692408561707, 1000000.0: 0.8307692408561707, 10000000.0: 0.8307692408561707, 100000000.0: 0.8307692408561707, 1000000000.0: 0.8307692408561707}\n",
            "dataset_name:PIE|accuracy:{0: 0.8970588445663452, 1: 0.595588207244873, 10.0: 0.5882353186607361, 100.0: 0.5882353186607361, 1000.0: 0.5882353186607361, 10000.0: 0.5882353186607361, 100000.0: 0.5882353186607361, 1000000.0: 0.5882353186607361, 10000000.0: 0.5882353186607361, 100000000.0: 0.5882353186607361, 1000000000.0: 0.5882353186607361}\n",
            "dataset_name:CUB|accuracy:{0: 0.9416666626930237, 1: 0.925000011920929, 10.0: 0.6499999761581421, 100.0: 0.6083333492279053, 1000.0: 0.6083333492279053, 10000.0: 0.6083333492279053, 100000.0: 0.6083333492279053, 1000000.0: 0.6083333492279053, 10000000.0: 0.6083333492279053, 100000000.0: 0.6083333492279053, 1000000000.0: 0.6083333492279053}\n",
            "dataset_name:handwritten|accuracy:{0: 0.9775000214576721, 1: 0.9775000214576721, 10.0: 0.9649999737739563, 100.0: 0.9200000166893005, 1000.0: 0.9175000190734863, 10000.0: 0.9175000190734863, 100000.0: 0.9175000190734863, 1000000.0: 0.9175000190734863, 10000000.0: 0.9175000190734863, 100000000.0: 0.9175000190734863, 1000000000.0: 0.9175000190734863}\n",
            "/content/Demo/UVaT_Demo/utils/standard_dataset.py:287: RuntimeWarning: divide by zero encountered in true_divide\n",
            "  (view_data - min_view) / max_view)\n",
            "dataset_name:animal|accuracy:{0: 0.8729926943778992, 1: 0.5815085172653198, 10.0: 0.5795620679855347, 100.0: 0.5795620679855347, 1000.0: 0.5795620679855347, 10000.0: 0.5795620679855347, 100000.0: 0.5795620679855347, 1000000.0: 0.5795620679855347, 10000000.0: 0.5795620679855347, 100000000.0: 0.5795620679855347, 1000000000.0: 0.5795620679855347}\n",
            "##########  both view-missing and noise  ##########\n",
            "dataset_name:ORL|accuracy:{0: 0.9624999761581421, 1: 0.7749999761581421, 10.0: 0.675000011920929, 100.0: 0.675000011920929, 1000.0: 0.675000011920929, 10000.0: 0.675000011920929, 100000.0: 0.675000011920929, 1000000.0: 0.675000011920929, 10000000.0: 0.675000011920929, 100000000.0: 0.675000011920929, 1000000000.0: 0.675000011920929}\n",
            "dataset_name:YaleB|accuracy:{0: 0.9923076629638672, 1: 0.8230769038200378, 10.0: 0.7692307829856873, 100.0: 0.7615384459495544, 1000.0: 0.7615384459495544, 10000.0: 0.7615384459495544, 100000.0: 0.7615384459495544, 1000000.0: 0.7615384459495544, 10000000.0: 0.7615384459495544, 100000000.0: 0.7615384459495544, 1000000000.0: 0.7615384459495544}\n",
            "dataset_name:PIE|accuracy:{0: 0.7573529481887817, 1: 0.49264705181121826, 10.0: 0.4852941036224365, 100.0: 0.4852941036224365, 1000.0: 0.4852941036224365, 10000.0: 0.4852941036224365, 100000.0: 0.4852941036224365, 1000000.0: 0.4852941036224365, 10000000.0: 0.4852941036224365, 100000000.0: 0.4852941036224365, 1000000000.0: 0.4852941036224365}\n",
            "dataset_name:CUB|accuracy:{0: 0.8583333492279053, 1: 0.7250000238418579, 10.0: 0.550000011920929, 100.0: 0.5166666507720947, 1000.0: 0.5166666507720947, 10000.0: 0.5166666507720947, 100000.0: 0.5166666507720947, 1000000.0: 0.5166666507720947, 10000000.0: 0.5166666507720947, 100000000.0: 0.5166666507720947, 1000000000.0: 0.5166666507720947}\n",
            "dataset_name:handwritten|accuracy:{0: 0.9700000286102295, 1: 0.9649999737739563, 10.0: 0.9275000095367432, 100.0: 0.8550000190734863, 1000.0: 0.8500000238418579, 10000.0: 0.8475000262260437, 100000.0: 0.8475000262260437, 1000000.0: 0.8475000262260437, 10000000.0: 0.8475000262260437, 100000000.0: 0.8475000262260437, 1000000000.0: 0.8475000262260437}\n",
            "dataset_name:animal|accuracy:{0: 0.7703163027763367, 1: 0.4360097348690033, 10.0: 0.43454986810684204, 100.0: 0.43406325578689575, 1000.0: 0.43406325578689575, 10000.0: 0.43406325578689575, 100000.0: 0.43406325578689575, 1000000.0: 0.43406325578689575, 10000000.0: 0.43406325578689575, 100000000.0: 0.43406325578689575, 1000000000.0: 0.43406325578689575}\n"
          ]
        }
      ]
    },
    {
      "cell_type": "code",
      "source": [
        ""
      ],
      "metadata": {
        "id": "zkBxXxHaKHQu"
      },
      "execution_count": null,
      "outputs": []
    }
  ]
}